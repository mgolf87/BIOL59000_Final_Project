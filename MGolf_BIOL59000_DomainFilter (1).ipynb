{
 "cells": [
  {
   "cell_type": "code",
   "execution_count": 1,
   "metadata": {},
   "outputs": [
    {
     "data": {
      "text/html": [
       "<div>\n",
       "<style scoped>\n",
       "    .dataframe tbody tr th:only-of-type {\n",
       "        vertical-align: middle;\n",
       "    }\n",
       "\n",
       "    .dataframe tbody tr th {\n",
       "        vertical-align: top;\n",
       "    }\n",
       "\n",
       "    .dataframe thead th {\n",
       "        text-align: right;\n",
       "    }\n",
       "</style>\n",
       "<table border=\"1\" class=\"dataframe\">\n",
       "  <thead>\n",
       "    <tr style=\"text-align: right;\">\n",
       "      <th></th>\n",
       "      <th>Domain</th>\n",
       "    </tr>\n",
       "  </thead>\n",
       "  <tbody>\n",
       "    <tr>\n",
       "      <th>0</th>\n",
       "      <td>1 A1</td>\n",
       "    </tr>\n",
       "    <tr>\n",
       "      <th>1</th>\n",
       "      <td>2 A1</td>\n",
       "    </tr>\n",
       "    <tr>\n",
       "      <th>2</th>\n",
       "      <td>3 A1</td>\n",
       "    </tr>\n",
       "    <tr>\n",
       "      <th>3</th>\n",
       "      <td>4 A1</td>\n",
       "    </tr>\n",
       "    <tr>\n",
       "      <th>4</th>\n",
       "      <td>5 A1</td>\n",
       "    </tr>\n",
       "    <tr>\n",
       "      <th>...</th>\n",
       "      <td>...</td>\n",
       "    </tr>\n",
       "    <tr>\n",
       "      <th>4870</th>\n",
       "      <td>4976 A1</td>\n",
       "    </tr>\n",
       "    <tr>\n",
       "      <th>4871</th>\n",
       "      <td>4977 A1</td>\n",
       "    </tr>\n",
       "    <tr>\n",
       "      <th>4872</th>\n",
       "      <td>4978 A1</td>\n",
       "    </tr>\n",
       "    <tr>\n",
       "      <th>4873</th>\n",
       "      <td>4979 A1</td>\n",
       "    </tr>\n",
       "    <tr>\n",
       "      <th>4874</th>\n",
       "      <td>4980 A1</td>\n",
       "    </tr>\n",
       "  </tbody>\n",
       "</table>\n",
       "<p>4875 rows × 1 columns</p>\n",
       "</div>"
      ],
      "text/plain": [
       "       Domain\n",
       "0        1 A1\n",
       "1        2 A1\n",
       "2        3 A1\n",
       "3        4 A1\n",
       "4        5 A1\n",
       "...       ...\n",
       "4870  4976 A1\n",
       "4871  4977 A1\n",
       "4872  4978 A1\n",
       "4873  4979 A1\n",
       "4874  4980 A1\n",
       "\n",
       "[4875 rows x 1 columns]"
      ]
     },
     "execution_count": 1,
     "metadata": {},
     "output_type": "execute_result"
    }
   ],
   "source": [
    "import pandas as pd\n",
    "import numpy as np\n",
    "chr1 = pd.read_csv('C:/Users/Mathe/Desktop/th17beads/chr1_beads.txt')\n",
    "chr1\n",
    "# make sure it works\n",
    "\n",
    "# the index values don't mean anything\n",
    "# I'm only interested in the domain type A or B (i.e. A1 A2 A3 are all just A)\n",
    "# and the numeric value before A or B which indicates the DNA loci in 50kb"
   ]
  },
  {
   "cell_type": "code",
   "execution_count": 2,
   "metadata": {},
   "outputs": [
    {
     "data": {
      "text/plain": [
       "3591"
      ]
     },
     "execution_count": 2,
     "metadata": {},
     "output_type": "execute_result"
    }
   ],
   "source": [
    "filter_criteria_1A = chr1['Domain'].str.contains(\"A\")\n",
    "\n",
    "chr1A = chr1.loc[filter_criteria_1A, 'Domain']\n",
    "len(chr1A)"
   ]
  },
  {
   "cell_type": "code",
   "execution_count": 3,
   "metadata": {
    "scrolled": false
   },
   "outputs": [
    {
     "data": {
      "text/plain": [
       "0          1 A1\n",
       "1          2 A1\n",
       "2          3 A1\n",
       "3          4 A1\n",
       "4          5 A1\n",
       "         ...   \n",
       "4870    4976 A1\n",
       "4871    4977 A1\n",
       "4872    4978 A1\n",
       "4873    4979 A1\n",
       "4874    4980 A1\n",
       "Name: Domain, Length: 3591, dtype: object"
      ]
     },
     "execution_count": 3,
     "metadata": {},
     "output_type": "execute_result"
    }
   ],
   "source": [
    "chr1A"
   ]
  },
  {
   "cell_type": "code",
   "execution_count": 4,
   "metadata": {},
   "outputs": [
    {
     "data": {
      "text/plain": [
       "1284"
      ]
     },
     "execution_count": 4,
     "metadata": {},
     "output_type": "execute_result"
    }
   ],
   "source": [
    "filter_criteria_1B = chr1['Domain'].str.contains(\"B\")\n",
    "\n",
    "chr1B = chr1.loc[filter_criteria_1B, 'Domain']\n",
    "len(chr1B)"
   ]
  },
  {
   "cell_type": "code",
   "execution_count": 5,
   "metadata": {},
   "outputs": [
    {
     "data": {
      "text/plain": [
       "59        60 B1\n",
       "60        61 B1\n",
       "61        62 B1\n",
       "62        63 B1\n",
       "63        64 B1\n",
       "         ...   \n",
       "4854    4960 B2\n",
       "4855    4961 B2\n",
       "4856    4962 B2\n",
       "4857    4963 B2\n",
       "4859    4965 B2\n",
       "Name: Domain, Length: 1284, dtype: object"
      ]
     },
     "execution_count": 5,
     "metadata": {},
     "output_type": "execute_result"
    }
   ],
   "source": [
    "chr1B"
   ]
  },
  {
   "cell_type": "code",
   "execution_count": 5,
   "metadata": {},
   "outputs": [
    {
     "name": "stdout",
     "output_type": "stream",
     "text": [
      "Length chr1A:  3591 \n",
      "Length chr1B:  1284\n"
     ]
    }
   ],
   "source": [
    "print(\"Length chr1A: \", len(chr1A), \"\\nLength chr1B: \", len(chr1B))"
   ]
  },
  {
   "cell_type": "code",
   "execution_count": 109,
   "metadata": {},
   "outputs": [
    {
     "name": "stdout",
     "output_type": "stream",
     "text": [
      "Base pair:  179550000 \n",
      "Megabase pair:  179.55\n",
      "Base pair:  64200000 \n",
      "Megabase pair:  64.2\n"
     ]
    }
   ],
   "source": [
    "# length conversion function below - convert to Mb for visualization\n",
    "lenconv(chr1A)\n",
    "lenconv(chr1B)"
   ]
  },
  {
   "cell_type": "code",
   "execution_count": null,
   "metadata": {},
   "outputs": [],
   "source": [
    "############################################################################################################################"
   ]
  },
  {
   "cell_type": "code",
   "execution_count": 11,
   "metadata": {},
   "outputs": [],
   "source": [
    "chr2 = pd.read_csv('C:/Users/Mathe/Desktop/th17beads/chr2_beads.txt')\n",
    "chr3 = pd.read_csv('C:/Users/Mathe/Desktop/th17beads/chr3_beads.txt')\n",
    "chr4 = pd.read_csv('C:/Users/Mathe/Desktop/th17beads/chr4_beads.txt')\n",
    "chr5 = pd.read_csv('C:/Users/Mathe/Desktop/th17beads/chr5_beads.txt')\n",
    "chr6 = pd.read_csv('C:/Users/Mathe/Desktop/th17beads/chr6_beads.txt')\n",
    "chr7 = pd.read_csv('C:/Users/Mathe/Desktop/th17beads/chr7_beads.txt')\n",
    "chr8 = pd.read_csv('C:/Users/Mathe/Desktop/th17beads/chr8_beads.txt')\n",
    "chr9 = pd.read_csv('C:/Users/Mathe/Desktop/th17beads/chr9_beads.txt')\n",
    "chr10 = pd.read_csv('C:/Users/Mathe/Desktop/th17beads/chr10_beads.txt')\n",
    "chr11 = pd.read_csv('C:/Users/Mathe/Desktop/th17beads/chr11_beads.txt')\n",
    "chr12 = pd.read_csv('C:/Users/Mathe/Desktop/th17beads/chr12_beads.txt')\n",
    "chr13 = pd.read_csv('C:/Users/Mathe/Desktop/th17beads/chr13_beads.txt')\n",
    "chr14 = pd.read_csv('C:/Users/Mathe/Desktop/th17beads/chr14_beads.txt')\n",
    "chr15 = pd.read_csv('C:/Users/Mathe/Desktop/th17beads/chr15_beads.txt')\n",
    "chr16 = pd.read_csv('C:/Users/Mathe/Desktop/th17beads/chr16_beads.txt')\n",
    "chr17 = pd.read_csv('C:/Users/Mathe/Desktop/th17beads/chr17_beads.txt')\n",
    "chr18 = pd.read_csv('C:/Users/Mathe/Desktop/th17beads/chr18_beads.txt')\n",
    "chr19 = pd.read_csv('C:/Users/Mathe/Desktop/th17beads/chr19_beads.txt')\n",
    "chr20 = pd.read_csv('C:/Users/Mathe/Desktop/th17beads/chr20_beads.txt')\n",
    "chr21 = pd.read_csv('C:/Users/Mathe/Desktop/th17beads/chr21_beads.txt')\n",
    "chr22 = pd.read_csv('C:/Users/Mathe/Desktop/th17beads/chr22_beads.txt')"
   ]
  },
  {
   "cell_type": "code",
   "execution_count": 41,
   "metadata": {},
   "outputs": [
    {
     "name": "stdout",
     "output_type": "stream",
     "text": [
      "Length chr2A:  3427 \n",
      "Length chr2B:  1417\n"
     ]
    }
   ],
   "source": [
    "### Chromosome 2 ###\n",
    "filter_criteria_2A = chr2['Domain'].str.contains(\"A\")\n",
    "chr2A = chr2.loc[filter_criteria_2A, 'Domain']\n",
    "\n",
    "filter_criteria_2B = chr2['Domain'].str.contains(\"B\")\n",
    "chr2B = chr2.loc[filter_criteria_2B, 'Domain']\n",
    "\n",
    "print(\"Length chr2A: \", len(chr2A), \"\\nLength chr2B: \", len(chr2B))"
   ]
  },
  {
   "cell_type": "code",
   "execution_count": 108,
   "metadata": {},
   "outputs": [
    {
     "name": "stdout",
     "output_type": "stream",
     "text": [
      "Base pair:  171350000 \n",
      "Megabase pair:  171.35\n",
      "Base pair:  70850000 \n",
      "Megabase pair:  70.85\n"
     ]
    }
   ],
   "source": [
    "lenconv(chr2A)\n",
    "lenconv(chr2B)"
   ]
  },
  {
   "cell_type": "code",
   "execution_count": 27,
   "metadata": {},
   "outputs": [
    {
     "name": "stdout",
     "output_type": "stream",
     "text": [
      "Length chr3A:  2539 \n",
      "Length chr3B:  1427\n"
     ]
    }
   ],
   "source": [
    "### Chromosome 3 ###\n",
    "filter_criteria_3A = chr3['Domain'].str.contains(\"A\")\n",
    "chr3A = chr3.loc[filter_criteria_3A, 'Domain']\n",
    "\n",
    "filter_criteria_3B = chr3['Domain'].str.contains(\"B\")\n",
    "chr3B = chr3.loc[filter_criteria_3B, 'Domain']\n",
    "\n",
    "print(\"Length chr3A: \", len(chr3A), \"\\nLength chr3B: \", len(chr3B))"
   ]
  },
  {
   "cell_type": "code",
   "execution_count": 107,
   "metadata": {},
   "outputs": [
    {
     "name": "stdout",
     "output_type": "stream",
     "text": [
      "Base pair:  126950000 \n",
      "Megabase pair:  126.95\n",
      "Base pair:  71350000 \n",
      "Megabase pair:  71.35\n"
     ]
    }
   ],
   "source": [
    "lenconv(chr3A)\n",
    "lenconv(chr3B)"
   ]
  },
  {
   "cell_type": "code",
   "execution_count": 28,
   "metadata": {},
   "outputs": [
    {
     "name": "stdout",
     "output_type": "stream",
     "text": [
      "Length chr4A:  2258 \n",
      "Length chr4B:  1547\n"
     ]
    }
   ],
   "source": [
    "### Chromosome 4 ###\n",
    "filter_criteria_4A = chr4['Domain'].str.contains(\"A\")\n",
    "chr4A = chr4.loc[filter_criteria_4A, 'Domain']\n",
    "\n",
    "filter_criteria_4B = chr4['Domain'].str.contains(\"B\")\n",
    "chr4B = chr4.loc[filter_criteria_4B, 'Domain']\n",
    "\n",
    "print(\"Length chr4A: \", len(chr4A), \"\\nLength chr4B: \", len(chr4B))"
   ]
  },
  {
   "cell_type": "code",
   "execution_count": 106,
   "metadata": {},
   "outputs": [
    {
     "name": "stdout",
     "output_type": "stream",
     "text": [
      "Base pair:  112900000 \n",
      "Megabase pair:  112.9\n",
      "Base pair:  77350000 \n",
      "Megabase pair:  77.35\n"
     ]
    }
   ],
   "source": [
    "lenconv(chr4A)\n",
    "lenconv(chr4B)"
   ]
  },
  {
   "cell_type": "code",
   "execution_count": 29,
   "metadata": {},
   "outputs": [
    {
     "name": "stdout",
     "output_type": "stream",
     "text": [
      "Length chr5A:  2414 \n",
      "Length chr5B:  1217\n"
     ]
    }
   ],
   "source": [
    "### Chromosome 5 ###\n",
    "filter_criteria_5A = chr5['Domain'].str.contains(\"A\")\n",
    "chr5A = chr5.loc[filter_criteria_5A, 'Domain']\n",
    "\n",
    "filter_criteria_5B = chr5['Domain'].str.contains(\"B\")\n",
    "chr5B = chr5.loc[filter_criteria_5B, 'Domain']\n",
    "\n",
    "print(\"Length chr5A: \", len(chr5A), \"\\nLength chr5B: \", len(chr5B))"
   ]
  },
  {
   "cell_type": "code",
   "execution_count": 105,
   "metadata": {},
   "outputs": [
    {
     "name": "stdout",
     "output_type": "stream",
     "text": [
      "Base pair:  120700000 \n",
      "Megabase pair:  120.7\n",
      "Base pair:  60850000 \n",
      "Megabase pair:  60.85\n"
     ]
    }
   ],
   "source": [
    "lenconv(chr5A)\n",
    "lenconv(chr5B)"
   ]
  },
  {
   "cell_type": "code",
   "execution_count": 30,
   "metadata": {},
   "outputs": [
    {
     "name": "stdout",
     "output_type": "stream",
     "text": [
      "Length chr6A:  2320 \n",
      "Length chr6B:  1097\n"
     ]
    }
   ],
   "source": [
    "### Chromosome 6 ###\n",
    "filter_criteria_6A = chr6['Domain'].str.contains(\"A\")\n",
    "chr6A = chr6.loc[filter_criteria_6A, 'Domain']\n",
    "\n",
    "filter_criteria_6B = chr6['Domain'].str.contains(\"B\")\n",
    "chr6B = chr6.loc[filter_criteria_6B, 'Domain']\n",
    "\n",
    "print(\"Length chr6A: \", len(chr6A), \"\\nLength chr6B: \", len(chr6B))"
   ]
  },
  {
   "cell_type": "code",
   "execution_count": 104,
   "metadata": {},
   "outputs": [
    {
     "name": "stdout",
     "output_type": "stream",
     "text": [
      "Base pair:  116000000 \n",
      "Megabase pair:  116.0\n",
      "Base pair:  54850000 \n",
      "Megabase pair:  54.85\n"
     ]
    }
   ],
   "source": [
    "lenconv(chr6A)\n",
    "lenconv(chr6B)"
   ]
  },
  {
   "cell_type": "code",
   "execution_count": 31,
   "metadata": {},
   "outputs": [
    {
     "name": "stdout",
     "output_type": "stream",
     "text": [
      "Length chr7A:  2194 \n",
      "Length chr7B:  993\n"
     ]
    }
   ],
   "source": [
    "### Chromosome 7 ###\n",
    "filter_criteria_7A = chr7['Domain'].str.contains(\"A\")\n",
    "chr7A = chr7.loc[filter_criteria_7A, 'Domain']\n",
    "\n",
    "filter_criteria_7B = chr7['Domain'].str.contains(\"B\")\n",
    "chr7B = chr7.loc[filter_criteria_7B, 'Domain']\n",
    "\n",
    "print(\"Length chr7A: \", len(chr7A), \"\\nLength chr7B: \", len(chr7B))"
   ]
  },
  {
   "cell_type": "code",
   "execution_count": 103,
   "metadata": {},
   "outputs": [
    {
     "name": "stdout",
     "output_type": "stream",
     "text": [
      "Base pair:  109700000 \n",
      "Megabase pair:  109.7\n",
      "Base pair:  49650000 \n",
      "Megabase pair:  49.65\n"
     ]
    }
   ],
   "source": [
    "lenconv(chr7A)\n",
    "lenconv(chr7B)"
   ]
  },
  {
   "cell_type": "code",
   "execution_count": 32,
   "metadata": {},
   "outputs": [
    {
     "name": "stdout",
     "output_type": "stream",
     "text": [
      "Length chr8A:  2009 \n",
      "Length chr8B:  894\n"
     ]
    }
   ],
   "source": [
    "### Chromosome 8 ###\n",
    "filter_criteria_8A = chr8['Domain'].str.contains(\"A\")\n",
    "chr8A = chr8.loc[filter_criteria_8A, 'Domain']\n",
    "\n",
    "filter_criteria_8B = chr8['Domain'].str.contains(\"B\")\n",
    "chr8B = chr8.loc[filter_criteria_8B, 'Domain']\n",
    "\n",
    "print(\"Length chr8A: \", len(chr8A), \"\\nLength chr8B: \", len(chr8B))"
   ]
  },
  {
   "cell_type": "code",
   "execution_count": 102,
   "metadata": {},
   "outputs": [
    {
     "name": "stdout",
     "output_type": "stream",
     "text": [
      "Base pair:  100450000 \n",
      "Megabase pair:  100.45\n",
      "Base pair:  44700000 \n",
      "Megabase pair:  44.7\n"
     ]
    }
   ],
   "source": [
    "lenconv(chr8A)\n",
    "lenconv(chr8B)"
   ]
  },
  {
   "cell_type": "code",
   "execution_count": 33,
   "metadata": {},
   "outputs": [
    {
     "name": "stdout",
     "output_type": "stream",
     "text": [
      "Length chr9A:  2067 \n",
      "Length chr9B:  701\n"
     ]
    }
   ],
   "source": [
    "### Chromosome 9 ###\n",
    "filter_criteria_9A = chr9['Domain'].str.contains(\"A\")\n",
    "chr9A = chr9.loc[filter_criteria_9A, 'Domain']\n",
    "\n",
    "filter_criteria_9B = chr9['Domain'].str.contains(\"B\")\n",
    "chr9B = chr9.loc[filter_criteria_9B, 'Domain']\n",
    "\n",
    "print(\"Length chr9A: \", len(chr9A), \"\\nLength chr9B: \", len(chr9B))"
   ]
  },
  {
   "cell_type": "code",
   "execution_count": 101,
   "metadata": {},
   "outputs": [
    {
     "name": "stdout",
     "output_type": "stream",
     "text": [
      "Base pair:  103350000 \n",
      "Megabase pair:  103.35\n",
      "Base pair:  35050000 \n",
      "Megabase pair:  35.05\n"
     ]
    }
   ],
   "source": [
    "lenconv(chr9A)\n",
    "lenconv(chr9B)"
   ]
  },
  {
   "cell_type": "code",
   "execution_count": 34,
   "metadata": {},
   "outputs": [
    {
     "name": "stdout",
     "output_type": "stream",
     "text": [
      "Length chr10A:  1897 \n",
      "Length chr10B:  779\n"
     ]
    }
   ],
   "source": [
    "### Chromosome 10 ###\n",
    "filter_criteria_10A = chr10['Domain'].str.contains(\"A\")\n",
    "chr10A = chr10.loc[filter_criteria_10A, 'Domain']\n",
    "\n",
    "filter_criteria_10B = chr10['Domain'].str.contains(\"B\")\n",
    "chr10B = chr10.loc[filter_criteria_10B, 'Domain']\n",
    "\n",
    "print(\"Length chr10A: \", len(chr10A), \"\\nLength chr10B: \", len(chr10B))"
   ]
  },
  {
   "cell_type": "code",
   "execution_count": 100,
   "metadata": {},
   "outputs": [
    {
     "name": "stdout",
     "output_type": "stream",
     "text": [
      "Base pair:  94850000 \n",
      "Megabase pair:  94.85\n",
      "Base pair:  38950000 \n",
      "Megabase pair:  38.95\n"
     ]
    }
   ],
   "source": [
    "lenconv(chr10A)\n",
    "lenconv(chr10B)"
   ]
  },
  {
   "cell_type": "code",
   "execution_count": 35,
   "metadata": {},
   "outputs": [
    {
     "name": "stdout",
     "output_type": "stream",
     "text": [
      "Length chr11A:  1811 \n",
      "Length chr11B:  891\n"
     ]
    }
   ],
   "source": [
    "### Chromosome 11 ###\n",
    "filter_criteria_11A = chr11['Domain'].str.contains(\"A\")\n",
    "chr11A = chr11.loc[filter_criteria_11A, 'Domain']\n",
    "\n",
    "filter_criteria_11B = chr11['Domain'].str.contains(\"B\")\n",
    "chr11B = chr11.loc[filter_criteria_11B, 'Domain']\n",
    "\n",
    "print(\"Length chr11A: \", len(chr11A), \"\\nLength chr11B: \", len(chr11B))"
   ]
  },
  {
   "cell_type": "code",
   "execution_count": 99,
   "metadata": {},
   "outputs": [
    {
     "name": "stdout",
     "output_type": "stream",
     "text": [
      "Base pair:  90550000 \n",
      "Megabase pair:  90.55\n",
      "Base pair:  44550000 \n",
      "Megabase pair:  44.55\n"
     ]
    }
   ],
   "source": [
    "lenconv(chr11A)\n",
    "lenconv(chr11B)"
   ]
  },
  {
   "cell_type": "code",
   "execution_count": 36,
   "metadata": {},
   "outputs": [
    {
     "name": "stdout",
     "output_type": "stream",
     "text": [
      "Length chr12A:  1883 \n",
      "Length chr12B:  783\n"
     ]
    }
   ],
   "source": [
    "### Chromosome 12 ###\n",
    "filter_criteria_12A = chr12['Domain'].str.contains(\"A\")\n",
    "chr12A = chr12.loc[filter_criteria_12A, 'Domain']\n",
    "\n",
    "filter_criteria_12B = chr12['Domain'].str.contains(\"B\")\n",
    "chr12B = chr12.loc[filter_criteria_12B, 'Domain']\n",
    "\n",
    "print(\"Length chr12A: \", len(chr12A), \"\\nLength chr12B: \", len(chr12B))"
   ]
  },
  {
   "cell_type": "code",
   "execution_count": 98,
   "metadata": {},
   "outputs": [
    {
     "name": "stdout",
     "output_type": "stream",
     "text": [
      "Base pair:  94150000 \n",
      "Megabase pair:  94.15\n",
      "Base pair:  39150000 \n",
      "Megabase pair:  39.15\n"
     ]
    }
   ],
   "source": [
    "lenconv(chr12A)\n",
    "lenconv(chr12B)"
   ]
  },
  {
   "cell_type": "code",
   "execution_count": 37,
   "metadata": {},
   "outputs": [
    {
     "name": "stdout",
     "output_type": "stream",
     "text": [
      "Length chr13A:  1428 \n",
      "Length chr13B:  860\n"
     ]
    }
   ],
   "source": [
    "### Chromosome 13 ###\n",
    "filter_criteria_13A = chr13['Domain'].str.contains(\"A\")\n",
    "chr13A = chr13.loc[filter_criteria_13A, 'Domain']\n",
    "\n",
    "filter_criteria_13B = chr13['Domain'].str.contains(\"B\")\n",
    "chr13B = chr13.loc[filter_criteria_13B, 'Domain']\n",
    "\n",
    "print(\"Length chr13A: \", len(chr13A), \"\\nLength chr13B: \", len(chr13B))"
   ]
  },
  {
   "cell_type": "code",
   "execution_count": 97,
   "metadata": {},
   "outputs": [
    {
     "name": "stdout",
     "output_type": "stream",
     "text": [
      "Base pair:  71400000 \n",
      "Megabase pair:  71.4\n",
      "Base pair:  43000000 \n",
      "Megabase pair:  43.0\n"
     ]
    }
   ],
   "source": [
    "lenconv(chr13A)\n",
    "lenconv(chr13B)"
   ]
  },
  {
   "cell_type": "code",
   "execution_count": 38,
   "metadata": {},
   "outputs": [
    {
     "name": "stdout",
     "output_type": "stream",
     "text": [
      "Length chr14A:  1477 \n",
      "Length chr14B:  664\n"
     ]
    }
   ],
   "source": [
    "### Chromosome 14 ###\n",
    "filter_criteria_14A = chr14['Domain'].str.contains(\"A\")\n",
    "chr14A = chr14.loc[filter_criteria_14A, 'Domain']\n",
    "\n",
    "filter_criteria_14B = chr14['Domain'].str.contains(\"B\")\n",
    "chr14B = chr14.loc[filter_criteria_14B, 'Domain']\n",
    "\n",
    "print(\"Length chr14A: \", len(chr14A), \"\\nLength chr14B: \", len(chr14B))"
   ]
  },
  {
   "cell_type": "code",
   "execution_count": 96,
   "metadata": {},
   "outputs": [
    {
     "name": "stdout",
     "output_type": "stream",
     "text": [
      "Base pair:  73850000 \n",
      "Megabase pair:  73.85\n",
      "Base pair:  33200000 \n",
      "Megabase pair:  33.2\n"
     ]
    }
   ],
   "source": [
    "lenconv(chr14A)\n",
    "lenconv(chr14B)"
   ]
  },
  {
   "cell_type": "code",
   "execution_count": 39,
   "metadata": {},
   "outputs": [
    {
     "name": "stdout",
     "output_type": "stream",
     "text": [
      "Length chr15A:  1596 \n",
      "Length chr15B:  444\n"
     ]
    }
   ],
   "source": [
    "### Chromosome 15 ###\n",
    "filter_criteria_15A = chr15['Domain'].str.contains(\"A\")\n",
    "chr15A = chr15.loc[filter_criteria_15A, 'Domain']\n",
    "\n",
    "filter_criteria_15B = chr15['Domain'].str.contains(\"B\")\n",
    "chr15B = chr15.loc[filter_criteria_15B, 'Domain']\n",
    "\n",
    "print(\"Length chr15A: \", len(chr15A), \"\\nLength chr15B: \", len(chr15B))"
   ]
  },
  {
   "cell_type": "code",
   "execution_count": 95,
   "metadata": {},
   "outputs": [
    {
     "name": "stdout",
     "output_type": "stream",
     "text": [
      "Base pair:  79800000 \n",
      "Megabase pair:  79.8\n",
      "Base pair:  22200000 \n",
      "Megabase pair:  22.2\n"
     ]
    }
   ],
   "source": [
    "lenconv(chr15A)\n",
    "lenconv(chr15B)"
   ]
  },
  {
   "cell_type": "code",
   "execution_count": 40,
   "metadata": {},
   "outputs": [
    {
     "name": "stdout",
     "output_type": "stream",
     "text": [
      "Length chr16A:  1384 \n",
      "Length chr16B:  423\n"
     ]
    }
   ],
   "source": [
    "### Chromosome 16 ###\n",
    "filter_criteria_16A = chr16['Domain'].str.contains(\"A\")\n",
    "chr16A = chr16.loc[filter_criteria_16A, 'Domain']\n",
    "\n",
    "filter_criteria_16B = chr16['Domain'].str.contains(\"B\")\n",
    "chr16B = chr16.loc[filter_criteria_16B, 'Domain']\n",
    "\n",
    "print(\"Length chr16A: \", len(chr16A), \"\\nLength chr16B: \", len(chr16B))"
   ]
  },
  {
   "cell_type": "code",
   "execution_count": 94,
   "metadata": {},
   "outputs": [
    {
     "name": "stdout",
     "output_type": "stream",
     "text": [
      "Base pair:  69200000 \n",
      "Megabase pair:  69.2\n",
      "Base pair:  21150000 \n",
      "Megabase pair:  21.15\n"
     ]
    }
   ],
   "source": [
    "lenconv(chr16A)\n",
    "lenconv(chr16B)"
   ]
  },
  {
   "cell_type": "code",
   "execution_count": 43,
   "metadata": {},
   "outputs": [
    {
     "name": "stdout",
     "output_type": "stream",
     "text": [
      "Length chr17A:  1364 \n",
      "Length chr17B:  302\n"
     ]
    }
   ],
   "source": [
    "### Chromosome 17 ###\n",
    "filter_criteria_17A = chr17['Domain'].str.contains(\"A\")\n",
    "chr17A = chr17.loc[filter_criteria_17A, 'Domain']\n",
    "\n",
    "filter_criteria_17B = chr17['Domain'].str.contains(\"B\")\n",
    "chr17B = chr17.loc[filter_criteria_17B, 'Domain']\n",
    "\n",
    "print(\"Length chr17A: \", len(chr17A), \"\\nLength chr17B: \", len(chr17B))"
   ]
  },
  {
   "cell_type": "code",
   "execution_count": 93,
   "metadata": {},
   "outputs": [
    {
     "name": "stdout",
     "output_type": "stream",
     "text": [
      "Base pair:  68200000 \n",
      "Megabase pair:  68.2\n",
      "Base pair:  15100000 \n",
      "Megabase pair:  15.1\n"
     ]
    }
   ],
   "source": [
    "lenconv(chr17A)\n",
    "lenconv(chr17B)"
   ]
  },
  {
   "cell_type": "code",
   "execution_count": 44,
   "metadata": {},
   "outputs": [
    {
     "name": "stdout",
     "output_type": "stream",
     "text": [
      "Length chr18A:  974 \n",
      "Length chr18B:  634\n"
     ]
    }
   ],
   "source": [
    "### Chromosome 18 ###\n",
    "filter_criteria_18A = chr18['Domain'].str.contains(\"A\")\n",
    "chr18A = chr18.loc[filter_criteria_18A, 'Domain']\n",
    "\n",
    "filter_criteria_18B = chr18['Domain'].str.contains(\"B\")\n",
    "chr18B = chr18.loc[filter_criteria_18B, 'Domain']\n",
    "\n",
    "print(\"Length chr18A: \", len(chr18A), \"\\nLength chr18B: \", len(chr18B))"
   ]
  },
  {
   "cell_type": "code",
   "execution_count": 92,
   "metadata": {},
   "outputs": [
    {
     "name": "stdout",
     "output_type": "stream",
     "text": [
      "Base pair:  48700000 \n",
      "Megabase pair:  48.7\n",
      "Base pair:  31700000 \n",
      "Megabase pair:  31.7\n"
     ]
    }
   ],
   "source": [
    "lenconv(chr18A)\n",
    "lenconv(chr18B)"
   ]
  },
  {
   "cell_type": "code",
   "execution_count": 45,
   "metadata": {},
   "outputs": [
    {
     "name": "stdout",
     "output_type": "stream",
     "text": [
      "Length chr19A:  1145 \n",
      "Length chr19B:  28\n"
     ]
    }
   ],
   "source": [
    "### Chromosome 19 ###\n",
    "filter_criteria_19A = chr19['Domain'].str.contains(\"A\")\n",
    "chr19A = chr19.loc[filter_criteria_19A, 'Domain']\n",
    "\n",
    "filter_criteria_19B = chr19['Domain'].str.contains(\"B\")\n",
    "chr19B = chr19.loc[filter_criteria_19B, 'Domain']\n",
    "\n",
    "print(\"Length chr19A: \", len(chr19A), \"\\nLength chr19B: \", len(chr19B))"
   ]
  },
  {
   "cell_type": "code",
   "execution_count": 91,
   "metadata": {},
   "outputs": [
    {
     "name": "stdout",
     "output_type": "stream",
     "text": [
      "Base pair:  57250000 \n",
      "Megabase pair:  57.25\n",
      "Base pair:  1400000 \n",
      "Megabase pair:  1.4\n"
     ]
    }
   ],
   "source": [
    "lenconv(chr19A)\n",
    "lenconv(chr19B)"
   ]
  },
  {
   "cell_type": "code",
   "execution_count": 47,
   "metadata": {},
   "outputs": [
    {
     "name": "stdout",
     "output_type": "stream",
     "text": [
      "Length chr20A:  923 \n",
      "Length chr20B:  366\n"
     ]
    }
   ],
   "source": [
    "### Chromosome 20 ###\n",
    "filter_criteria_20A = chr20['Domain'].str.contains(\"A\")\n",
    "chr20A = chr20.loc[filter_criteria_20A, 'Domain']\n",
    "\n",
    "filter_criteria_20B = chr20['Domain'].str.contains(\"B\")\n",
    "chr20B = chr20.loc[filter_criteria_20B, 'Domain']\n",
    "\n",
    "print(\"Length chr20A: \", len(chr20A), \"\\nLength chr20B: \", len(chr20B))"
   ]
  },
  {
   "cell_type": "code",
   "execution_count": 90,
   "metadata": {},
   "outputs": [
    {
     "name": "stdout",
     "output_type": "stream",
     "text": [
      "Base pair:  46150000 \n",
      "Megabase pair:  46.15\n",
      "Base pair:  18300000 \n",
      "Megabase pair:  18.3\n"
     ]
    }
   ],
   "source": [
    "lenconv(chr20A)\n",
    "lenconv(chr20B)"
   ]
  },
  {
   "cell_type": "code",
   "execution_count": 46,
   "metadata": {},
   "outputs": [
    {
     "name": "stdout",
     "output_type": "stream",
     "text": [
      "Length chr21A:  662 \n",
      "Length chr21B:  273\n"
     ]
    }
   ],
   "source": [
    "### Chromosome 21 ###\n",
    "filter_criteria_21A = chr21['Domain'].str.contains(\"A\")\n",
    "chr21A = chr21.loc[filter_criteria_21A, 'Domain']\n",
    "\n",
    "filter_criteria_21B = chr21['Domain'].str.contains(\"B\")\n",
    "chr21B = chr21.loc[filter_criteria_21B, 'Domain']\n",
    "\n",
    "print(\"Length chr21A: \", len(chr21A), \"\\nLength chr21B: \", len(chr21B))"
   ]
  },
  {
   "cell_type": "code",
   "execution_count": 89,
   "metadata": {},
   "outputs": [
    {
     "name": "stdout",
     "output_type": "stream",
     "text": [
      "Base pair:  33100000 \n",
      "Megabase pair:  33.1\n",
      "Base pair:  13650000 \n",
      "Megabase pair:  13.65\n"
     ]
    }
   ],
   "source": [
    "lenconv(chr21A)\n",
    "lenconv(chr21B)"
   ]
  },
  {
   "cell_type": "code",
   "execution_count": 48,
   "metadata": {},
   "outputs": [
    {
     "name": "stdout",
     "output_type": "stream",
     "text": [
      "Length chr22A:  858 \n",
      "Length chr22B:  159\n"
     ]
    }
   ],
   "source": [
    "### Chromosome 22 ###\n",
    "filter_criteria_22A = chr22['Domain'].str.contains(\"A\")\n",
    "chr22A = chr22.loc[filter_criteria_22A, 'Domain']\n",
    "\n",
    "filter_criteria_22B = chr22['Domain'].str.contains(\"B\")\n",
    "chr22B = chr22.loc[filter_criteria_22B, 'Domain']\n",
    "\n",
    "print(\"Length chr22A: \", len(chr22A), \"\\nLength chr22B: \", len(chr22B))"
   ]
  },
  {
   "cell_type": "code",
   "execution_count": 88,
   "metadata": {},
   "outputs": [
    {
     "name": "stdout",
     "output_type": "stream",
     "text": [
      "Base pair:  42900000 \n",
      "Megabase pair:  42.9\n",
      "Base pair:  7950000 \n",
      "Megabase pair:  7.95\n"
     ]
    }
   ],
   "source": [
    "lenconv(chr22A)\n",
    "lenconv(chr22B)"
   ]
  },
  {
   "cell_type": "code",
   "execution_count": 87,
   "metadata": {},
   "outputs": [],
   "source": [
    "# create a function to convert the lengths to their bp and then Mb\n",
    "def lenconv(chr):\n",
    "    bpconv = len(chr)*50000\n",
    "    mbconv = bpconv/1000000\n",
    "    print(\"Base pair: \",bpconv,\"\\nMegabase pair: \",mbconv)\n",
    "\n"
   ]
  }
 ],
 "metadata": {
  "kernelspec": {
   "display_name": "Python 3",
   "language": "python",
   "name": "python3"
  },
  "language_info": {
   "codemirror_mode": {
    "name": "ipython",
    "version": 3
   },
   "file_extension": ".py",
   "mimetype": "text/x-python",
   "name": "python",
   "nbconvert_exporter": "python",
   "pygments_lexer": "ipython3",
   "version": "3.8.8"
  }
 },
 "nbformat": 4,
 "nbformat_minor": 4
}
